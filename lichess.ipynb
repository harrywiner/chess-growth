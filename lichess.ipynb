{
 "cells": [
  {
   "cell_type": "markdown",
   "metadata": {},
   "source": [
    "# Lichess Exploration\n",
    "My goal is to replicate the analysis done on my data from Chess.com\n",
    "\n",
    "I will create a Rating/Time series and analyse it by doing a rating conversion from Chess.com to Lichess\n",
    "\n",
    "Chess.com Rapid 1000 -> Lichess Rapid 1400"
   ]
  },
  {
   "cell_type": "code",
   "execution_count": 2,
   "metadata": {},
   "outputs": [],
   "source": [
    "import requests\n",
    "HARRY = \"thebeanboy\""
   ]
  },
  {
   "cell_type": "code",
   "execution_count": 8,
   "metadata": {},
   "outputs": [],
   "source": [
    "my_rating_history = requests.get(f\"https://lichess.org/api/user/{HARRY}/rating-history\").json()"
   ]
  },
  {
   "cell_type": "code",
   "execution_count": 13,
   "metadata": {},
   "outputs": [
    {
     "data": {
      "text/plain": [
       "['Bullet',\n",
       " 'Blitz',\n",
       " 'Rapid',\n",
       " 'Classical',\n",
       " 'Correspondence',\n",
       " 'Chess960',\n",
       " 'King of the Hill',\n",
       " 'Three-check',\n",
       " 'Antichess',\n",
       " 'Atomic',\n",
       " 'Horde',\n",
       " 'Racing Kings',\n",
       " 'Crazyhouse',\n",
       " 'Puzzles',\n",
       " 'UltraBullet']"
      ]
     },
     "execution_count": 13,
     "metadata": {},
     "output_type": "execute_result"
    }
   ],
   "source": [
    "[h[\"name\"] for h in my_rating_history]"
   ]
  },
  {
   "cell_type": "code",
   "execution_count": 17,
   "metadata": {},
   "outputs": [],
   "source": [
    "def get_rapid_history(username): \n",
    "    return list(filter(lambda h: h[\"name\"] == \"Rapid\", requests.get(f\"https://lichess.org/api/user/{HARRY}/rating-history\").json()))[0][\"points\"]"
   ]
  },
  {
   "cell_type": "code",
   "execution_count": 18,
   "metadata": {},
   "outputs": [
    {
     "data": {
      "text/plain": [
       "[[2021, 9, 23, 1668],\n",
       " [2021, 11, 17, 1523],\n",
       " [2021, 11, 28, 1616],\n",
       " [2022, 1, 28, 1551],\n",
       " [2022, 2, 1, 1561],\n",
       " [2022, 2, 13, 1689]]"
      ]
     },
     "execution_count": 18,
     "metadata": {},
     "output_type": "execute_result"
    }
   ],
   "source": [
    "get_rapid_history(HARRY)"
   ]
  },
  {
   "cell_type": "code",
   "execution_count": 20,
   "metadata": {},
   "outputs": [
    {
     "data": {
      "text/plain": [
       "<Response [404]>"
      ]
     },
     "execution_count": 20,
     "metadata": {},
     "output_type": "execute_result"
    }
   ],
   "source": [
    "requests.get(\"https://lichess.org/player/top/10/rapid\")"
   ]
  }
 ],
 "metadata": {
  "kernelspec": {
   "display_name": "Python 3.10.2 64-bit",
   "language": "python",
   "name": "python3"
  },
  "language_info": {
   "codemirror_mode": {
    "name": "ipython",
    "version": 3
   },
   "file_extension": ".py",
   "mimetype": "text/x-python",
   "name": "python",
   "nbconvert_exporter": "python",
   "pygments_lexer": "ipython3",
   "version": "3.10.2"
  },
  "orig_nbformat": 4,
  "vscode": {
   "interpreter": {
    "hash": "aee8b7b246df8f9039afb4144a1f6fd8d2ca17a180786b69acc140d282b71a49"
   }
  }
 },
 "nbformat": 4,
 "nbformat_minor": 2
}
