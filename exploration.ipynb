{
 "cells": [
  {
   "cell_type": "code",
   "execution_count": 2,
   "metadata": {},
   "outputs": [],
   "source": [
    "import pandas as pd\n",
    "import requests"
   ]
  },
  {
   "cell_type": "markdown",
   "metadata": {},
   "source": [
    "## Hello World"
   ]
  },
  {
   "cell_type": "code",
   "execution_count": 5,
   "metadata": {},
   "outputs": [
    {
     "data": {
      "text/plain": [
       "{'chess_daily': {'last': {'rating': 796, 'date': 1642775141, 'rd': 156},\n",
       "  'best': {'rating': 796,\n",
       "   'date': 1642775141,\n",
       "   'game': 'https://www.chess.com/game/daily/377756365'},\n",
       "  'record': {'win': 5,\n",
       "   'loss': 0,\n",
       "   'draw': 0,\n",
       "   'time_per_move': 11748,\n",
       "   'timeout_percent': 0}},\n",
       " 'chess_rapid': {'last': {'rating': 1282, 'date': 1656591197, 'rd': 51},\n",
       "  'best': {'rating': 1360,\n",
       "   'date': 1651775655,\n",
       "   'game': 'https://www.chess.com/game/live/44785791809'},\n",
       "  'record': {'win': 188, 'loss': 103, 'draw': 7}},\n",
       " 'chess_bullet': {'last': {'rating': 1302, 'date': 1656856967, 'rd': 26},\n",
       "  'best': {'rating': 1302,\n",
       "   'date': 1656856967,\n",
       "   'game': 'https://www.chess.com/game/live/50595572023'},\n",
       "  'record': {'win': 425, 'loss': 317, 'draw': 9}},\n",
       " 'chess_blitz': {'last': {'rating': 1109, 'date': 1656886798, 'rd': 40},\n",
       "  'best': {'rating': 1180,\n",
       "   'date': 1649669695,\n",
       "   'game': 'https://www.chess.com/game/live/43407601701'},\n",
       "  'record': {'win': 473, 'loss': 362, 'draw': 30}},\n",
       " 'fide': 0,\n",
       " 'tactics': {'highest': {'rating': 2297, 'date': 1656540937},\n",
       "  'lowest': {'rating': 392, 'date': 1622882293}},\n",
       " 'lessons': {},\n",
       " 'puzzle_rush': {'best': {'total_attempts': 30, 'score': 27}}}"
      ]
     },
     "execution_count": 5,
     "metadata": {},
     "output_type": "execute_result"
    }
   ],
   "source": [
    "requests.get(\"https://api.chess.com/pub/player/uneatenbean/stats\").json()"
   ]
  },
  {
   "cell_type": "markdown",
   "metadata": {},
   "source": [
    "## Games"
   ]
  },
  {
   "cell_type": "code",
   "execution_count": 13,
   "metadata": {},
   "outputs": [],
   "source": [
    "from chess import pgn\n",
    "import io"
   ]
  },
  {
   "cell_type": "code",
   "execution_count": 16,
   "metadata": {},
   "outputs": [],
   "source": [
    "games_res = requests.get(\"https://api.chess.com/pub/player/uneatenbean/games/2022/06/pgn\").text"
   ]
  },
  {
   "cell_type": "code",
   "execution_count": 17,
   "metadata": {},
   "outputs": [],
   "source": [
    "game = pgn.read_game(io.StringIO(games_res))"
   ]
  },
  {
   "cell_type": "code",
   "execution_count": 18,
   "metadata": {},
   "outputs": [
    {
     "data": {
      "text/plain": [
       "Headers(Event='Live Chess', Site='Chess.com', Date='2022.06.30', Round='-', White='EpicAnon', Black='uneatenbean', Result='1-0', BlackElo='1212', CurrentPosition='6k1/2r1bppp/Q3b3/1B1p4/3P4/4P3/PP3PPP/4R1K1 w - -', ECO='D35', ECOUrl='https://www.chess.com/openings/Queens-Gambit-Declined-Harrwitz-Attack', EndDate='2022.06.30', EndTime='21:52:16', Link='https://www.chess.com/game/live/50364643009', StartTime='21:51:17', Termination='EpicAnon won by resignation', TimeControl='60', Timezone='UTC', UTCDate='2022.06.30', UTCTime='21:51:17', WhiteElo='1193')"
      ]
     },
     "execution_count": 18,
     "metadata": {},
     "output_type": "execute_result"
    }
   ],
   "source": [
    "game.headers"
   ]
  },
  {
   "cell_type": "markdown",
   "metadata": {},
   "source": [
    "**TimeControl** is in seconds, I will have to filter time control for common Rapid values\n",
    "\n",
    "**BlackElo; WhiteElo**: I can get the elo at the start of every game, which should be a sufficient marker"
   ]
  },
  {
   "cell_type": "markdown",
   "metadata": {},
   "source": [
    "### Multiple games"
   ]
  },
  {
   "cell_type": "code",
   "execution_count": 31,
   "metadata": {},
   "outputs": [],
   "source": [
    "games_list = games_res.split(\"\\n\\n\\n\")\n",
    "len(games_list)\n",
    "parsed_games = [pgn.read_game(io.StringIO(g)) for g in games_list]"
   ]
  },
  {
   "cell_type": "code",
   "execution_count": null,
   "metadata": {},
   "outputs": [],
   "source": [
    "[pgn.read_game(io.StringIO(g)).headers[\"TimeControl\"] for g in games_list]"
   ]
  },
  {
   "cell_type": "markdown",
   "metadata": {},
   "source": [
    "### TimeControl"
   ]
  },
  {
   "cell_type": "code",
   "execution_count": 25,
   "metadata": {},
   "outputs": [],
   "source": [
    "import re"
   ]
  },
  {
   "cell_type": "code",
   "execution_count": 45,
   "metadata": {},
   "outputs": [],
   "source": [
    "def isRapid(time_control: str) -> bool:\n",
    "    match = re.match(\"\\d+\", time_control)\n",
    "    if not match: raise \"Invalid Time Control\"\n",
    "    return int(match.group(0)) >= 600\n",
    "\n",
    "assert isRapid(\"600\")\n",
    "assert not isRapid(\"100\")\n",
    "\n",
    "def isLive(event: str) -> bool:\n",
    "    return event == \"Live Chess\""
   ]
  },
  {
   "cell_type": "code",
   "execution_count": 46,
   "metadata": {},
   "outputs": [],
   "source": [
    "rapid_games = list(filter(lambda g: isRapid(g.headers[\"TimeControl\"]) and isLive(g.headers[\"Event\"]), parsed_games))"
   ]
  },
  {
   "cell_type": "code",
   "execution_count": 48,
   "metadata": {},
   "outputs": [
    {
     "name": "stdout",
     "output_type": "stream",
     "text": [
      "17\n",
      "uneatenbean  -  lucaippolito  @  2022.06.30\n",
      "Forchezque  -  uneatenbean  @  2022.06.30\n",
      "uneatenbean  -  Zabara77  @  2022.06.30\n",
      "lashenoOo  -  uneatenbean  @  2022.06.30\n",
      "shuweii  -  uneatenbean  @  2022.06.29\n",
      "uneatenbean  -  shuweii  @  2022.06.29\n",
      "shuweii  -  uneatenbean  @  2022.06.29\n",
      "uneatenbean  -  shuweii  @  2022.06.29\n",
      "mostafahusseinsalem  -  uneatenbean  @  2022.06.23\n",
      "uneatenbean  -  mosheassous10  @  2022.06.23\n",
      "vulia  -  uneatenbean  @  2022.06.23\n",
      "uneatenbean  -  RockyFromage  @  2022.06.23\n",
      "uneatenbean  -  AnnoyingShip  @  2022.06.23\n",
      "4105181a  -  uneatenbean  @  2022.06.23\n",
      "uneatenbean  -  sethindonesia  @  2022.06.04\n",
      "uneatenbean  -  RicardoCampos19  @  2022.06.04\n",
      "uneatenbean  -  floydTO  @  2022.06.04\n"
     ]
    },
    {
     "data": {
      "text/plain": [
       "[None,\n",
       " None,\n",
       " None,\n",
       " None,\n",
       " None,\n",
       " None,\n",
       " None,\n",
       " None,\n",
       " None,\n",
       " None,\n",
       " None,\n",
       " None,\n",
       " None,\n",
       " None,\n",
       " None,\n",
       " None,\n",
       " None]"
      ]
     },
     "execution_count": 48,
     "metadata": {},
     "output_type": "execute_result"
    }
   ],
   "source": [
    "print(len(rapid_games))\n",
    "[print(g.headers[\"White\"], \" - \", g.headers[\"Black\"], \" @ \", g.headers[\"Date\"]) for g in rapid_games]"
   ]
  },
  {
   "cell_type": "markdown",
   "metadata": {},
   "source": [
    "## Graphs\n",
    "First, I want rating over time"
   ]
  },
  {
   "cell_type": "code",
   "execution_count": 50,
   "metadata": {},
   "outputs": [],
   "source": [
    "import matplotlib.pyplot as plt"
   ]
  },
  {
   "cell_type": "code",
   "execution_count": 49,
   "metadata": {},
   "outputs": [],
   "source": [
    "USERNAME = \"uneatenbean\""
   ]
  },
  {
   "cell_type": "code",
   "execution_count": 51,
   "metadata": {},
   "outputs": [
    {
     "data": {
      "text/plain": [
       "Headers(Event='Live Chess', Site='Chess.com', Date='2022.06.30', Round='-', White='uneatenbean', Black='lucaippolito', Result='0-1', BlackElo='1268', CurrentPosition='8/8/p7/8/P7/1P3p2/4K1k1/8 w - -', ECO='D35', ECOUrl='https://www.chess.com/openings/Queens-Gambit-Declined-Exchange-Positional-Line-5...Be7-6.Nf3', EndDate='2022.06.30', EndTime='12:13:17', Link='https://www.chess.com/game/live/50329172097', StartTime='11:56:05', Termination='lucaippolito won by resignation', TimeControl='600', Timezone='UTC', UTCDate='2022.06.30', UTCTime='11:56:05', WhiteElo='1282')"
      ]
     },
     "execution_count": 51,
     "metadata": {},
     "output_type": "execute_result"
    }
   ],
   "source": [
    "rapid_games[0].headers"
   ]
  },
  {
   "cell_type": "code",
   "execution_count": 52,
   "metadata": {},
   "outputs": [],
   "source": [
    "ratings = [g.headers[\"WhiteElo\"] if g.headers[\"White\"] == USERNAME else g.headers[\"BlackElo\"] for g in rapid_games]"
   ]
  },
  {
   "cell_type": "code",
   "execution_count": 53,
   "metadata": {},
   "outputs": [
    {
     "data": {
      "text/plain": [
       "['1282',\n",
       " '1291',\n",
       " '1298',\n",
       " '1306',\n",
       " '1314',\n",
       " '1325',\n",
       " '1319',\n",
       " '1330',\n",
       " '1324',\n",
       " '1315',\n",
       " '1307',\n",
       " '1316',\n",
       " '1307',\n",
       " '1299',\n",
       " '1309',\n",
       " '1302',\n",
       " '1311']"
      ]
     },
     "execution_count": 53,
     "metadata": {},
     "output_type": "execute_result"
    }
   ],
   "source": [
    "ratings"
   ]
  },
  {
   "cell_type": "markdown",
   "metadata": {},
   "source": [
    "### Date\n",
    "Date is in YYYY.MM.DD format, I will read into a date property after converting to epoch then average rating per day in Pandas Dataframe"
   ]
  },
  {
   "cell_type": "code",
   "execution_count": 61,
   "metadata": {},
   "outputs": [],
   "source": [
    "from datetime import datetime\n",
    "import pytz"
   ]
  },
  {
   "cell_type": "code",
   "execution_count": 62,
   "metadata": {},
   "outputs": [
    {
     "name": "stdout",
     "output_type": "stream",
     "text": [
      "1656547200.0\n"
     ]
    }
   ],
   "source": [
    "def parse_date(date: str) -> int:\n",
    "    return datetime.strptime(date, \"%Y.%m.%d\").replace(tzinfo=pytz.UTC).timestamp()\n",
    "\n",
    "assert parse_date('2022.06.30') == 1656547200.0"
   ]
  },
  {
   "cell_type": "code",
   "execution_count": 70,
   "metadata": {},
   "outputs": [
    {
     "data": {
      "text/plain": [
       "[1282, 1656547200.0]"
      ]
     },
     "execution_count": 70,
     "metadata": {},
     "output_type": "execute_result"
    }
   ],
   "source": [
    "rating_times = [[int(g.headers[\"WhiteElo\"] if g.headers[\"White\"] == USERNAME else g.headers[\"BlackElo\"]), parse_date(g.headers[\"UTCDate\"])] for g in rapid_games]\n",
    "rating_times[0]"
   ]
  },
  {
   "cell_type": "code",
   "execution_count": 71,
   "metadata": {},
   "outputs": [
    {
     "data": {
      "text/html": [
       "<div>\n",
       "<style scoped>\n",
       "    .dataframe tbody tr th:only-of-type {\n",
       "        vertical-align: middle;\n",
       "    }\n",
       "\n",
       "    .dataframe tbody tr th {\n",
       "        vertical-align: top;\n",
       "    }\n",
       "\n",
       "    .dataframe thead th {\n",
       "        text-align: right;\n",
       "    }\n",
       "</style>\n",
       "<table border=\"1\" class=\"dataframe\">\n",
       "  <thead>\n",
       "    <tr style=\"text-align: right;\">\n",
       "      <th></th>\n",
       "      <th>Ratings</th>\n",
       "      <th>Date</th>\n",
       "    </tr>\n",
       "  </thead>\n",
       "  <tbody>\n",
       "    <tr>\n",
       "      <th>count</th>\n",
       "      <td>17.000000</td>\n",
       "      <td>1.700000e+01</td>\n",
       "    </tr>\n",
       "    <tr>\n",
       "      <th>mean</th>\n",
       "      <td>1309.117647</td>\n",
       "      <td>1.655917e+09</td>\n",
       "    </tr>\n",
       "    <tr>\n",
       "      <th>std</th>\n",
       "      <td>12.439264</td>\n",
       "      <td>8.143886e+05</td>\n",
       "    </tr>\n",
       "    <tr>\n",
       "      <th>min</th>\n",
       "      <td>1282.000000</td>\n",
       "      <td>1.654301e+09</td>\n",
       "    </tr>\n",
       "    <tr>\n",
       "      <th>25%</th>\n",
       "      <td>1302.000000</td>\n",
       "      <td>1.655942e+09</td>\n",
       "    </tr>\n",
       "    <tr>\n",
       "      <th>50%</th>\n",
       "      <td>1309.000000</td>\n",
       "      <td>1.655942e+09</td>\n",
       "    </tr>\n",
       "    <tr>\n",
       "      <th>75%</th>\n",
       "      <td>1316.000000</td>\n",
       "      <td>1.656461e+09</td>\n",
       "    </tr>\n",
       "    <tr>\n",
       "      <th>max</th>\n",
       "      <td>1330.000000</td>\n",
       "      <td>1.656547e+09</td>\n",
       "    </tr>\n",
       "  </tbody>\n",
       "</table>\n",
       "</div>"
      ],
      "text/plain": [
       "           Ratings          Date\n",
       "count    17.000000  1.700000e+01\n",
       "mean   1309.117647  1.655917e+09\n",
       "std      12.439264  8.143886e+05\n",
       "min    1282.000000  1.654301e+09\n",
       "25%    1302.000000  1.655942e+09\n",
       "50%    1309.000000  1.655942e+09\n",
       "75%    1316.000000  1.656461e+09\n",
       "max    1330.000000  1.656547e+09"
      ]
     },
     "execution_count": 71,
     "metadata": {},
     "output_type": "execute_result"
    }
   ],
   "source": [
    "df = pd.DataFrame(rating_times, columns=[\"Ratings\", \"Date\"])\n",
    "df.describe()"
   ]
  },
  {
   "cell_type": "code",
   "execution_count": 72,
   "metadata": {},
   "outputs": [
    {
     "data": {
      "text/html": [
       "<div>\n",
       "<style scoped>\n",
       "    .dataframe tbody tr th:only-of-type {\n",
       "        vertical-align: middle;\n",
       "    }\n",
       "\n",
       "    .dataframe tbody tr th {\n",
       "        vertical-align: top;\n",
       "    }\n",
       "\n",
       "    .dataframe thead th {\n",
       "        text-align: right;\n",
       "    }\n",
       "</style>\n",
       "<table border=\"1\" class=\"dataframe\">\n",
       "  <thead>\n",
       "    <tr style=\"text-align: right;\">\n",
       "      <th></th>\n",
       "      <th>Ratings</th>\n",
       "    </tr>\n",
       "    <tr>\n",
       "      <th>Date</th>\n",
       "      <th></th>\n",
       "    </tr>\n",
       "  </thead>\n",
       "  <tbody>\n",
       "    <tr>\n",
       "      <th>1.654301e+09</th>\n",
       "      <td>1307.333333</td>\n",
       "    </tr>\n",
       "    <tr>\n",
       "      <th>1.655942e+09</th>\n",
       "      <td>1311.333333</td>\n",
       "    </tr>\n",
       "    <tr>\n",
       "      <th>1.656461e+09</th>\n",
       "      <td>1322.000000</td>\n",
       "    </tr>\n",
       "    <tr>\n",
       "      <th>1.656547e+09</th>\n",
       "      <td>1294.250000</td>\n",
       "    </tr>\n",
       "  </tbody>\n",
       "</table>\n",
       "</div>"
      ],
      "text/plain": [
       "                  Ratings\n",
       "Date                     \n",
       "1.654301e+09  1307.333333\n",
       "1.655942e+09  1311.333333\n",
       "1.656461e+09  1322.000000\n",
       "1.656547e+09  1294.250000"
      ]
     },
     "execution_count": 72,
     "metadata": {},
     "output_type": "execute_result"
    }
   ],
   "source": [
    "df.groupby(['Date']).mean()"
   ]
  }
 ],
 "metadata": {
  "interpreter": {
   "hash": "aee8b7b246df8f9039afb4144a1f6fd8d2ca17a180786b69acc140d282b71a49"
  },
  "kernelspec": {
   "display_name": "Python 3.10.2 64-bit",
   "language": "python",
   "name": "python3"
  },
  "language_info": {
   "codemirror_mode": {
    "name": "ipython",
    "version": 3
   },
   "file_extension": ".py",
   "mimetype": "text/x-python",
   "name": "python",
   "nbconvert_exporter": "python",
   "pygments_lexer": "ipython3",
   "version": "3.10.2"
  },
  "orig_nbformat": 4
 },
 "nbformat": 4,
 "nbformat_minor": 2
}
