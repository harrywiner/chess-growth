{
 "cells": [
  {
   "cell_type": "code",
   "execution_count": 1,
   "metadata": {},
   "outputs": [],
   "source": [
    "import pandas as pd\n",
    "import requests"
   ]
  },
  {
   "cell_type": "markdown",
   "metadata": {},
   "source": [
    "## Hello World"
   ]
  },
  {
   "cell_type": "code",
   "execution_count": 2,
   "metadata": {},
   "outputs": [
    {
     "data": {
      "text/plain": [
       "{'chess_daily': {'last': {'rating': 831, 'date': 1657183205, 'rd': 163},\n",
       "  'best': {'rating': 831,\n",
       "   'date': 1657183205,\n",
       "   'game': 'https://www.chess.com/game/daily/377756365'},\n",
       "  'record': {'win': 6,\n",
       "   'loss': 0,\n",
       "   'draw': 0,\n",
       "   'time_per_move': 12221,\n",
       "   'timeout_percent': 0}},\n",
       " 'chess_rapid': {'last': {'rating': 1282, 'date': 1656591197, 'rd': 51},\n",
       "  'best': {'rating': 1360,\n",
       "   'date': 1651775655,\n",
       "   'game': 'https://www.chess.com/game/live/44785791809'},\n",
       "  'record': {'win': 188, 'loss': 103, 'draw': 7}},\n",
       " 'chess_bullet': {'last': {'rating': 1303, 'date': 1657410145, 'rd': 30},\n",
       "  'best': {'rating': 1303,\n",
       "   'date': 1657410145,\n",
       "   'game': 'https://www.chess.com/game/live/50595572023'},\n",
       "  'record': {'win': 426, 'loss': 317, 'draw': 9}},\n",
       " 'chess_blitz': {'last': {'rating': 1101, 'date': 1657410621, 'rd': 42},\n",
       "  'best': {'rating': 1180,\n",
       "   'date': 1649669695,\n",
       "   'game': 'https://www.chess.com/game/live/43407601701'},\n",
       "  'record': {'win': 473, 'loss': 363, 'draw': 30}},\n",
       " 'fide': 0,\n",
       " 'tactics': {'highest': {'rating': 2374, 'date': 1657282155},\n",
       "  'lowest': {'rating': 392, 'date': 1622882293}},\n",
       " 'lessons': {},\n",
       " 'puzzle_rush': {'best': {'total_attempts': 30, 'score': 27}}}"
      ]
     },
     "execution_count": 2,
     "metadata": {},
     "output_type": "execute_result"
    }
   ],
   "source": [
    "requests.get(\"https://api.chess.com/pub/player/uneatenbean/stats\").json()"
   ]
  },
  {
   "cell_type": "markdown",
   "metadata": {},
   "source": [
    "## Games"
   ]
  },
  {
   "cell_type": "code",
   "execution_count": 22,
   "metadata": {},
   "outputs": [],
   "source": [
    "from chess import pgn\n",
    "import io"
   ]
  },
  {
   "cell_type": "code",
   "execution_count": 23,
   "metadata": {},
   "outputs": [],
   "source": [
    "games_res = requests.get(\"https://api.chess.com/pub/player/uneatenbean/games/2022/06/pgn\").text\n",
    "\n",
    "parsed_games = []\n",
    "for i in range(8):\n",
    "    games_res = requests.get(f\"https://api.chess.com/pub/player/uneatenbean/games/2022/0{i}/pgn\").text\n",
    "    [parsed_games.append(pgn.read_game(io.StringIO(g))) for g in games_res.split(\"\\n\\n\\n\")]"
   ]
  },
  {
   "cell_type": "code",
   "execution_count": 24,
   "metadata": {},
   "outputs": [
    {
     "data": {
      "text/plain": [
       "1230"
      ]
     },
     "execution_count": 24,
     "metadata": {},
     "output_type": "execute_result"
    }
   ],
   "source": [
    "len(parsed_games)"
   ]
  },
  {
   "cell_type": "code",
   "execution_count": 25,
   "metadata": {},
   "outputs": [],
   "source": [
    "game = pgn.read_game(io.StringIO(games_res))"
   ]
  },
  {
   "cell_type": "code",
   "execution_count": 26,
   "metadata": {},
   "outputs": [
    {
     "data": {
      "text/plain": [
       "Headers(Event='Live Chess', Site='Chess.com', Date='2022.07.03', Round='-', White='uneatenbean', Black='shuweii', Result='0-1', BlackElo='1026', CurrentPosition='r4rk1/6p1/8/p3p3/1pNpP3/1P1P4/P1N2pq1/2RQK2R w - -', ECO='A08', ECOUrl='https://www.chess.com/openings/Kings-Indian-Attack-French-Variation', EndDate='2022.07.03', EndTime='22:19:58', Link='https://www.chess.com/game/live/50624980741', StartTime='22:07:22', Termination='shuweii won by resignation', TimeControl='300+5', Timezone='UTC', UTCDate='2022.07.03', UTCTime='22:07:22', WhiteElo='1109')"
      ]
     },
     "execution_count": 26,
     "metadata": {},
     "output_type": "execute_result"
    }
   ],
   "source": [
    "game.headers"
   ]
  },
  {
   "cell_type": "markdown",
   "metadata": {},
   "source": [
    "**TimeControl** is in seconds, I will have to filter time control for common Rapid values\n",
    "\n",
    "**BlackElo; WhiteElo**: I can get the elo at the start of every game, which should be a sufficient marker"
   ]
  },
  {
   "cell_type": "markdown",
   "metadata": {},
   "source": [
    "### Multiple games"
   ]
  },
  {
   "cell_type": "code",
   "execution_count": 27,
   "metadata": {},
   "outputs": [
    {
     "data": {
      "text/plain": [
       "21"
      ]
     },
     "execution_count": 27,
     "metadata": {},
     "output_type": "execute_result"
    }
   ],
   "source": [
    "games_list = games_res.split(\"\\n\\n\\n\")\n",
    "len(games_list)\n",
    "#parsed_games = [pgn.read_game(io.StringIO(g)) for g in games_list]"
   ]
  },
  {
   "cell_type": "code",
   "execution_count": 28,
   "metadata": {},
   "outputs": [],
   "source": [
    "#[pgn.read_game(io.StringIO(g)).headers[\"TimeControl\"] for g in games_list]"
   ]
  },
  {
   "cell_type": "markdown",
   "metadata": {},
   "source": [
    "### TimeControl"
   ]
  },
  {
   "cell_type": "code",
   "execution_count": 29,
   "metadata": {},
   "outputs": [],
   "source": [
    "import re"
   ]
  },
  {
   "cell_type": "code",
   "execution_count": 30,
   "metadata": {},
   "outputs": [],
   "source": [
    "def isRapid(time_control: str) -> bool:\n",
    "    match = re.match(\"\\d+\", time_control)\n",
    "    if not match: raise \"Invalid Time Control\"\n",
    "    return int(match.group(0)) >= 600\n",
    "\n",
    "assert isRapid(\"600\")\n",
    "assert not isRapid(\"100\")\n",
    "\n",
    "def isLive(event: str) -> bool:\n",
    "    return event == \"Live Chess\""
   ]
  },
  {
   "cell_type": "code",
   "execution_count": 35,
   "metadata": {},
   "outputs": [],
   "source": [
    "def clean_games(games):\n",
    "    return list(filter(lambda g: \"TimeControl\" in g.headers.keys(), games))"
   ]
  },
  {
   "cell_type": "code",
   "execution_count": 36,
   "metadata": {},
   "outputs": [],
   "source": [
    "list(filter(lambda g: \"TimeControl\" not in g.headers.keys(), parsed_games))\n",
    "parsed_games = clean_games(parsed_games)"
   ]
  },
  {
   "cell_type": "code",
   "execution_count": 37,
   "metadata": {},
   "outputs": [],
   "source": [
    "rapid_games = list(filter(lambda g: isRapid(g.headers[\"TimeControl\"]) and isLive(g.headers[\"Event\"]), parsed_games))"
   ]
  },
  {
   "cell_type": "code",
   "execution_count": 38,
   "metadata": {},
   "outputs": [
    {
     "name": "stdout",
     "output_type": "stream",
     "text": [
      "120\n",
      "uneatenbean  -  larshill  @  2022.01.15\n",
      "uneatenbean  -  Gralicoma  @  2022.01.15\n",
      "uneatenbean  -  MohamedEL-Daly  @  2022.01.05\n",
      "BenjaminMeaby  -  uneatenbean  @  2022.01.05\n",
      "uneatenbean  -  Rajatzzz  @  2022.01.05\n",
      "deronchessgod  -  uneatenbean  @  2022.02.20\n",
      "uneatenbean  -  BourbonBrett  @  2022.02.20\n",
      "Renzo48  -  uneatenbean  @  2022.02.18\n",
      "uneatenbean  -  fishpickle123  @  2022.02.18\n",
      "uneatenbean  -  SaeedAwad  @  2022.02.16\n",
      "gustavo3986  -  uneatenbean  @  2022.02.16\n",
      "uneatenbean  -  taco_zip  @  2022.02.16\n",
      "franklyMe42  -  uneatenbean  @  2022.02.16\n",
      "uneatenbean  -  Winckler18  @  2022.02.11\n",
      "ChessConesour  -  uneatenbean  @  2022.02.11\n",
      "uneatenbean  -  bjam224  @  2022.02.11\n",
      "SKenyon20  -  uneatenbean  @  2022.02.11\n",
      "uneatenbean  -  benp317  @  2022.02.11\n",
      "kravovar  -  uneatenbean  @  2022.02.11\n",
      "Primus56  -  uneatenbean  @  2022.02.11\n",
      "uneatenbean  -  FilDyn76  @  2022.02.11\n",
      "uneatenbean  -  Varun416  @  2022.02.09\n",
      "glardwin  -  uneatenbean  @  2022.02.09\n",
      "uneatenbean  -  glardwin  @  2022.02.09\n",
      "MrToons  -  uneatenbean  @  2022.02.09\n",
      "uneatenbean  -  Gandalf5561  @  2022.02.09\n",
      "uneatenbean  -  T0VARE  @  2022.02.09\n",
      "anandabalan  -  uneatenbean  @  2022.02.04\n",
      "uneatenbean  -  Adamlee6  @  2022.02.04\n",
      "uneatenbean  -  matad2k  @  2022.02.03\n",
      "uneatenbean  -  glp31911  @  2022.02.03\n",
      "DEBANJAN82C  -  uneatenbean  @  2022.02.03\n",
      "uneatenbean  -  LibBuffalo  @  2022.02.03\n",
      "AROEIRA8  -  uneatenbean  @  2022.02.03\n",
      "uneatenbean  -  Santa16  @  2022.03.31\n",
      "uneatenbean  -  aprilday  @  2022.03.31\n",
      "Idsie2  -  uneatenbean  @  2022.03.31\n",
      "uneatenbean  -  shuweii  @  2022.03.30\n",
      "shuweii  -  uneatenbean  @  2022.03.30\n",
      "BlakkJesus  -  uneatenbean  @  2022.03.30\n",
      "Roestro  -  uneatenbean  @  2022.03.26\n",
      "uneatenbean  -  Kanish01  @  2022.03.26\n",
      "ati5  -  uneatenbean  @  2022.03.26\n",
      "jeffrcal  -  uneatenbean  @  2022.03.26\n",
      "uneatenbean  -  javiblues  @  2022.03.26\n",
      "wooooormy  -  uneatenbean  @  2022.03.26\n",
      "uneatenbean  -  Neodemion  @  2022.03.26\n",
      "uneatenbean  -  Superkare002  @  2022.03.26\n",
      "Superkare002  -  uneatenbean  @  2022.03.26\n",
      "Abk_chess  -  uneatenbean  @  2022.03.26\n",
      "PaulofGalveston  -  uneatenbean  @  2022.03.24\n",
      "uneatenbean  -  PaulofGalveston  @  2022.03.24\n",
      "HmmMaybeWhat  -  uneatenbean  @  2022.03.24\n",
      "uneatenbean  -  Gallegoloko  @  2022.03.23\n",
      "uneatenbean  -  JohnChess589  @  2022.03.20\n",
      "ajs915  -  uneatenbean  @  2022.03.20\n",
      "uneatenbean  -  Alteael  @  2022.03.20\n",
      "BogaBros  -  uneatenbean  @  2022.03.20\n",
      "vlada9390  -  uneatenbean  @  2022.03.20\n",
      "msuae  -  uneatenbean  @  2022.03.20\n",
      "uneatenbean  -  dkspizza17  @  2022.03.18\n",
      "mroberts6994  -  uneatenbean  @  2022.03.18\n",
      "uneatenbean  -  malolo1234  @  2022.03.15\n",
      "sammyt18  -  uneatenbean  @  2022.03.15\n",
      "Perknova  -  uneatenbean  @  2022.03.15\n",
      "uneatenbean  -  adsoto  @  2022.03.15\n",
      "shuweii  -  uneatenbean  @  2022.03.13\n",
      "HMBloodshot909  -  uneatenbean  @  2022.03.13\n",
      "uneatenbean  -  RussellDrake  @  2022.03.13\n",
      "uneatenbean  -  carib75  @  2022.03.13\n",
      "uneatenbean  -  OfirYeho  @  2022.03.13\n",
      "dgomes194  -  uneatenbean  @  2022.03.13\n",
      "uneatenbean  -  amansastry010  @  2022.03.13\n",
      "auolfer  -  uneatenbean  @  2022.03.13\n",
      "uneatenbean  -  Devedal  @  2022.03.13\n",
      "zerble  -  uneatenbean  @  2022.04.27\n",
      "jeaneti  -  uneatenbean  @  2022.04.27\n",
      "uneatenbean  -  paulvr68  @  2022.04.27\n",
      "uneatenbean  -  antar47  @  2022.04.18\n",
      "uneatenbean  -  doctoras1777  @  2022.04.18\n",
      "MannyAH  -  uneatenbean  @  2022.04.13\n",
      "uneatenbean  -  abronf  @  2022.04.12\n",
      "deSteeee  -  uneatenbean  @  2022.04.12\n",
      "uneatenbean  -  pawelzagan  @  2022.04.12\n",
      "Arek_Bozek  -  uneatenbean  @  2022.04.12\n",
      "uneatenbean  -  VanZiss  @  2022.04.03\n",
      "zizo53  -  uneatenbean  @  2022.04.03\n",
      "AKaras47  -  uneatenbean  @  2022.04.03\n",
      "uneatenbean  -  dacovski  @  2022.04.03\n",
      "uneatenbean  -  GioD117  @  2022.05.26\n",
      "uneatenbean  -  shuweii  @  2022.05.17\n",
      "uneatenbean  -  lucoro  @  2022.05.15\n",
      "ckress  -  uneatenbean  @  2022.05.15\n",
      "uneatenbean  -  Frizis  @  2022.05.15\n",
      "szkarson  -  uneatenbean  @  2022.05.15\n",
      "uneatenbean  -  sivaiahmundlapati  @  2022.05.15\n",
      "uneatenbean  -  Perseo1  @  2022.05.15\n",
      "BennyRRR  -  uneatenbean  @  2022.05.15\n",
      "LiamFisher606  -  uneatenbean  @  2022.05.06\n",
      "Grotespeler99  -  uneatenbean  @  2022.05.06\n",
      "uneatenbean  -  Ambassad0rSatch  @  2022.05.05\n",
      "uneatenbean  -  oibaf1226  @  2022.05.05\n",
      "uneatenbean  -  Roseofday  @  2022.05.05\n",
      "uneatenbean  -  lucaippolito  @  2022.06.30\n",
      "Forchezque  -  uneatenbean  @  2022.06.30\n",
      "uneatenbean  -  Zabara77  @  2022.06.30\n",
      "lashenoOo  -  uneatenbean  @  2022.06.30\n",
      "shuweii  -  uneatenbean  @  2022.06.29\n",
      "uneatenbean  -  shuweii  @  2022.06.29\n",
      "shuweii  -  uneatenbean  @  2022.06.29\n",
      "uneatenbean  -  shuweii  @  2022.06.29\n",
      "mostafahusseinsalem  -  uneatenbean  @  2022.06.23\n",
      "uneatenbean  -  mosheassous10  @  2022.06.23\n",
      "vulia  -  uneatenbean  @  2022.06.23\n",
      "uneatenbean  -  RockyFromage  @  2022.06.23\n",
      "uneatenbean  -  AnnoyingShip  @  2022.06.23\n",
      "4105181a  -  uneatenbean  @  2022.06.23\n",
      "uneatenbean  -  sethindonesia  @  2022.06.04\n",
      "uneatenbean  -  RicardoCampos19  @  2022.06.04\n",
      "uneatenbean  -  floydTO  @  2022.06.04\n"
     ]
    },
    {
     "data": {
      "text/plain": [
       "[None,\n",
       " None,\n",
       " None,\n",
       " None,\n",
       " None,\n",
       " None,\n",
       " None,\n",
       " None,\n",
       " None,\n",
       " None,\n",
       " None,\n",
       " None,\n",
       " None,\n",
       " None,\n",
       " None,\n",
       " None,\n",
       " None,\n",
       " None,\n",
       " None,\n",
       " None,\n",
       " None,\n",
       " None,\n",
       " None,\n",
       " None,\n",
       " None,\n",
       " None,\n",
       " None,\n",
       " None,\n",
       " None,\n",
       " None,\n",
       " None,\n",
       " None,\n",
       " None,\n",
       " None,\n",
       " None,\n",
       " None,\n",
       " None,\n",
       " None,\n",
       " None,\n",
       " None,\n",
       " None,\n",
       " None,\n",
       " None,\n",
       " None,\n",
       " None,\n",
       " None,\n",
       " None,\n",
       " None,\n",
       " None,\n",
       " None,\n",
       " None,\n",
       " None,\n",
       " None,\n",
       " None,\n",
       " None,\n",
       " None,\n",
       " None,\n",
       " None,\n",
       " None,\n",
       " None,\n",
       " None,\n",
       " None,\n",
       " None,\n",
       " None,\n",
       " None,\n",
       " None,\n",
       " None,\n",
       " None,\n",
       " None,\n",
       " None,\n",
       " None,\n",
       " None,\n",
       " None,\n",
       " None,\n",
       " None,\n",
       " None,\n",
       " None,\n",
       " None,\n",
       " None,\n",
       " None,\n",
       " None,\n",
       " None,\n",
       " None,\n",
       " None,\n",
       " None,\n",
       " None,\n",
       " None,\n",
       " None,\n",
       " None,\n",
       " None,\n",
       " None,\n",
       " None,\n",
       " None,\n",
       " None,\n",
       " None,\n",
       " None,\n",
       " None,\n",
       " None,\n",
       " None,\n",
       " None,\n",
       " None,\n",
       " None,\n",
       " None,\n",
       " None,\n",
       " None,\n",
       " None,\n",
       " None,\n",
       " None,\n",
       " None,\n",
       " None,\n",
       " None,\n",
       " None,\n",
       " None,\n",
       " None,\n",
       " None,\n",
       " None,\n",
       " None,\n",
       " None,\n",
       " None,\n",
       " None]"
      ]
     },
     "execution_count": 38,
     "metadata": {},
     "output_type": "execute_result"
    }
   ],
   "source": [
    "print(len(rapid_games))\n",
    "[print(g.headers[\"White\"], \" - \", g.headers[\"Black\"], \" @ \", g.headers[\"Date\"]) for g in rapid_games]"
   ]
  },
  {
   "cell_type": "markdown",
   "metadata": {},
   "source": [
    "## Graphs\n",
    "First, I want rating over time"
   ]
  },
  {
   "cell_type": "code",
   "execution_count": 39,
   "metadata": {},
   "outputs": [],
   "source": [
    "import matplotlib.pyplot as plt"
   ]
  },
  {
   "cell_type": "code",
   "execution_count": 40,
   "metadata": {},
   "outputs": [],
   "source": [
    "USERNAME = \"uneatenbean\""
   ]
  },
  {
   "cell_type": "code",
   "execution_count": 41,
   "metadata": {},
   "outputs": [
    {
     "data": {
      "text/plain": [
       "Headers(Event='Live Chess', Site='Chess.com', Date='2022.01.15', Round='-', White='uneatenbean', Black='larshill', Result='1-0', BlackElo='1069', CurrentPosition='r3r3/2Q5/pk2ppp1/1p6/8/2R5/1P3PPP/6K1 b - -', ECO='D00', ECOUrl='https://www.chess.com/openings/Queens-Pawn-Opening-Accelerated-London-System', EndDate='2022.01.15', EndTime='17:58:25', Link='https://www.chess.com/game/live/36007729553', StartTime='17:43:55', Termination='uneatenbean won by checkmate', TimeControl='600', Timezone='UTC', UTCDate='2022.01.15', UTCTime='17:43:55', WhiteElo='1038')"
      ]
     },
     "execution_count": 41,
     "metadata": {},
     "output_type": "execute_result"
    }
   ],
   "source": [
    "rapid_games[0].headers"
   ]
  },
  {
   "cell_type": "code",
   "execution_count": 42,
   "metadata": {},
   "outputs": [],
   "source": [
    "ratings = [g.headers[\"WhiteElo\"] if g.headers[\"White\"] == USERNAME else g.headers[\"BlackElo\"] for g in rapid_games]"
   ]
  },
  {
   "cell_type": "code",
   "execution_count": 43,
   "metadata": {},
   "outputs": [
    {
     "data": {
      "text/plain": [
       "['1038',\n",
       " '1029',\n",
       " '1039',\n",
       " '1047',\n",
       " '1052',\n",
       " '1188',\n",
       " '1179',\n",
       " '1171',\n",
       " '1164',\n",
       " '1155',\n",
       " '1147',\n",
       " '1139',\n",
       " '1132',\n",
       " '1125',\n",
       " '1117',\n",
       " '1108',\n",
       " '1100',\n",
       " '1091',\n",
       " '1098',\n",
       " '1089',\n",
       " '1081',\n",
       " '1072',\n",
       " '1063',\n",
       " '1063',\n",
       " '1062',\n",
       " '1052',\n",
       " '1044',\n",
       " '1036',\n",
       " '1045',\n",
       " '1038',\n",
       " '1046',\n",
       " '1037',\n",
       " '1037',\n",
       " '1045',\n",
       " '1296',\n",
       " '1303',\n",
       " '1294',\n",
       " '1287',\n",
       " '1298',\n",
       " '1298',\n",
       " '1306',\n",
       " '1298',\n",
       " '1290',\n",
       " '1283',\n",
       " '1274',\n",
       " '1267',\n",
       " '1261',\n",
       " '1253',\n",
       " '1261',\n",
       " '1269',\n",
       " '1261',\n",
       " '1254',\n",
       " '1246',\n",
       " '1254',\n",
       " '1246',\n",
       " '1238',\n",
       " '1230',\n",
       " '1238',\n",
       " '1238',\n",
       " '1230',\n",
       " '1238',\n",
       " '1229',\n",
       " '1221',\n",
       " '1210',\n",
       " '1204',\n",
       " '1204',\n",
       " '1195',\n",
       " '1204',\n",
       " '1212',\n",
       " '1204',\n",
       " '1197',\n",
       " '1188',\n",
       " '1179',\n",
       " '1171',\n",
       " '1179',\n",
       " '1352',\n",
       " '1345',\n",
       " '1336',\n",
       " '1344',\n",
       " '1337',\n",
       " '1329',\n",
       " '1321',\n",
       " '1329',\n",
       " '1321',\n",
       " '1313',\n",
       " '1304',\n",
       " '1313',\n",
       " '1305',\n",
       " '1305',\n",
       " '1321',\n",
       " '1321',\n",
       " '1321',\n",
       " '1329',\n",
       " '1321',\n",
       " '1313',\n",
       " '1321',\n",
       " '1330',\n",
       " '1338',\n",
       " '1346',\n",
       " '1353',\n",
       " '1360',\n",
       " '1352',\n",
       " '1359',\n",
       " '1282',\n",
       " '1291',\n",
       " '1298',\n",
       " '1306',\n",
       " '1314',\n",
       " '1325',\n",
       " '1319',\n",
       " '1330',\n",
       " '1324',\n",
       " '1315',\n",
       " '1307',\n",
       " '1316',\n",
       " '1307',\n",
       " '1299',\n",
       " '1309',\n",
       " '1302',\n",
       " '1311']"
      ]
     },
     "execution_count": 43,
     "metadata": {},
     "output_type": "execute_result"
    }
   ],
   "source": [
    "ratings"
   ]
  },
  {
   "cell_type": "markdown",
   "metadata": {},
   "source": [
    "### Date\n",
    "Date is in YYYY.MM.DD format, I will read into a date property after converting to epoch then average rating per day in Pandas Dataframe"
   ]
  },
  {
   "cell_type": "code",
   "execution_count": 72,
   "metadata": {},
   "outputs": [],
   "source": [
    "from datetime import datetime, timedelta\n",
    "import pytz"
   ]
  },
  {
   "cell_type": "code",
   "execution_count": 65,
   "metadata": {},
   "outputs": [],
   "source": [
    "player_joined = requests.get(\"https://api.chess.com/pub/player/uneatenbean\").json()[\"joined\"]\n",
    "date_joined = datetime.fromtimestamp(player_joined)"
   ]
  },
  {
   "cell_type": "code",
   "execution_count": 68,
   "metadata": {},
   "outputs": [
    {
     "data": {
      "text/plain": [
       "4"
      ]
     },
     "execution_count": 68,
     "metadata": {},
     "output_type": "execute_result"
    }
   ],
   "source": [
    "date_joined.month"
   ]
  },
  {
   "cell_type": "code",
   "execution_count": 45,
   "metadata": {},
   "outputs": [],
   "source": [
    "def parse_date(date: str) -> int:\n",
    "    return datetime.strptime(date, \"%Y.%m.%d\").replace(tzinfo=pytz.UTC).timestamp()\n",
    "\n",
    "assert parse_date('2022.06.30') == 1656547200.0"
   ]
  },
  {
   "cell_type": "code",
   "execution_count": 46,
   "metadata": {},
   "outputs": [
    {
     "data": {
      "text/plain": [
       "[1038, 1642204800.0]"
      ]
     },
     "execution_count": 46,
     "metadata": {},
     "output_type": "execute_result"
    }
   ],
   "source": [
    "rating_times = [[int(g.headers[\"WhiteElo\"] if g.headers[\"White\"] == USERNAME else g.headers[\"BlackElo\"]), parse_date(g.headers[\"UTCDate\"])] for g in rapid_games]\n",
    "rating_times[0]"
   ]
  },
  {
   "cell_type": "code",
   "execution_count": 50,
   "metadata": {},
   "outputs": [
    {
     "data": {
      "text/html": [
       "<div>\n",
       "<style scoped>\n",
       "    .dataframe tbody tr th:only-of-type {\n",
       "        vertical-align: middle;\n",
       "    }\n",
       "\n",
       "    .dataframe tbody tr th {\n",
       "        vertical-align: top;\n",
       "    }\n",
       "\n",
       "    .dataframe thead th {\n",
       "        text-align: right;\n",
       "    }\n",
       "</style>\n",
       "<table border=\"1\" class=\"dataframe\">\n",
       "  <thead>\n",
       "    <tr style=\"text-align: right;\">\n",
       "      <th></th>\n",
       "      <th>Rating</th>\n",
       "      <th>Date</th>\n",
       "    </tr>\n",
       "  </thead>\n",
       "  <tbody>\n",
       "    <tr>\n",
       "      <th>count</th>\n",
       "      <td>120.000000</td>\n",
       "      <td>1.200000e+02</td>\n",
       "    </tr>\n",
       "    <tr>\n",
       "      <th>mean</th>\n",
       "      <td>1228.591667</td>\n",
       "      <td>1.648683e+09</td>\n",
       "    </tr>\n",
       "    <tr>\n",
       "      <th>std</th>\n",
       "      <td>102.402608</td>\n",
       "      <td>4.017484e+06</td>\n",
       "    </tr>\n",
       "    <tr>\n",
       "      <th>min</th>\n",
       "      <td>1029.000000</td>\n",
       "      <td>1.641341e+09</td>\n",
       "    </tr>\n",
       "    <tr>\n",
       "      <th>25%</th>\n",
       "      <td>1161.750000</td>\n",
       "      <td>1.645099e+09</td>\n",
       "    </tr>\n",
       "    <tr>\n",
       "      <th>50%</th>\n",
       "      <td>1261.000000</td>\n",
       "      <td>1.648253e+09</td>\n",
       "    </tr>\n",
       "    <tr>\n",
       "      <th>75%</th>\n",
       "      <td>1313.000000</td>\n",
       "      <td>1.651709e+09</td>\n",
       "    </tr>\n",
       "    <tr>\n",
       "      <th>max</th>\n",
       "      <td>1360.000000</td>\n",
       "      <td>1.656547e+09</td>\n",
       "    </tr>\n",
       "  </tbody>\n",
       "</table>\n",
       "</div>"
      ],
      "text/plain": [
       "            Rating          Date\n",
       "count   120.000000  1.200000e+02\n",
       "mean   1228.591667  1.648683e+09\n",
       "std     102.402608  4.017484e+06\n",
       "min    1029.000000  1.641341e+09\n",
       "25%    1161.750000  1.645099e+09\n",
       "50%    1261.000000  1.648253e+09\n",
       "75%    1313.000000  1.651709e+09\n",
       "max    1360.000000  1.656547e+09"
      ]
     },
     "execution_count": 50,
     "metadata": {},
     "output_type": "execute_result"
    }
   ],
   "source": [
    "df = pd.DataFrame(rating_times, columns=[\"Rating\", \"Date\"])\n",
    "df.describe()"
   ]
  },
  {
   "cell_type": "code",
   "execution_count": 48,
   "metadata": {},
   "outputs": [
    {
     "data": {
      "text/html": [
       "<div>\n",
       "<style scoped>\n",
       "    .dataframe tbody tr th:only-of-type {\n",
       "        vertical-align: middle;\n",
       "    }\n",
       "\n",
       "    .dataframe tbody tr th {\n",
       "        vertical-align: top;\n",
       "    }\n",
       "\n",
       "    .dataframe thead th {\n",
       "        text-align: right;\n",
       "    }\n",
       "</style>\n",
       "<table border=\"1\" class=\"dataframe\">\n",
       "  <thead>\n",
       "    <tr style=\"text-align: right;\">\n",
       "      <th></th>\n",
       "      <th>Ratings</th>\n",
       "    </tr>\n",
       "    <tr>\n",
       "      <th>Date</th>\n",
       "      <th></th>\n",
       "    </tr>\n",
       "  </thead>\n",
       "  <tbody>\n",
       "    <tr>\n",
       "      <th>1.641341e+09</th>\n",
       "      <td>1046.000000</td>\n",
       "    </tr>\n",
       "    <tr>\n",
       "      <th>1.642205e+09</th>\n",
       "      <td>1033.500000</td>\n",
       "    </tr>\n",
       "    <tr>\n",
       "      <th>1.643846e+09</th>\n",
       "      <td>1040.600000</td>\n",
       "    </tr>\n",
       "    <tr>\n",
       "      <th>1.643933e+09</th>\n",
       "      <td>1040.500000</td>\n",
       "    </tr>\n",
       "    <tr>\n",
       "      <th>1.644365e+09</th>\n",
       "      <td>1059.333333</td>\n",
       "    </tr>\n",
       "    <tr>\n",
       "      <th>1.644538e+09</th>\n",
       "      <td>1101.125000</td>\n",
       "    </tr>\n",
       "    <tr>\n",
       "      <th>1.644970e+09</th>\n",
       "      <td>1143.250000</td>\n",
       "    </tr>\n",
       "    <tr>\n",
       "      <th>1.645142e+09</th>\n",
       "      <td>1167.500000</td>\n",
       "    </tr>\n",
       "    <tr>\n",
       "      <th>1.645315e+09</th>\n",
       "      <td>1183.500000</td>\n",
       "    </tr>\n",
       "    <tr>\n",
       "      <th>1.647130e+09</th>\n",
       "      <td>1192.111111</td>\n",
       "    </tr>\n",
       "    <tr>\n",
       "      <th>1.647302e+09</th>\n",
       "      <td>1209.750000</td>\n",
       "    </tr>\n",
       "    <tr>\n",
       "      <th>1.647562e+09</th>\n",
       "      <td>1233.500000</td>\n",
       "    </tr>\n",
       "    <tr>\n",
       "      <th>1.647734e+09</th>\n",
       "      <td>1236.666667</td>\n",
       "    </tr>\n",
       "    <tr>\n",
       "      <th>1.647994e+09</th>\n",
       "      <td>1254.000000</td>\n",
       "    </tr>\n",
       "    <tr>\n",
       "      <th>1.648080e+09</th>\n",
       "      <td>1253.666667</td>\n",
       "    </tr>\n",
       "    <tr>\n",
       "      <th>1.648253e+09</th>\n",
       "      <td>1276.200000</td>\n",
       "    </tr>\n",
       "    <tr>\n",
       "      <th>1.648598e+09</th>\n",
       "      <td>1294.333333</td>\n",
       "    </tr>\n",
       "    <tr>\n",
       "      <th>1.648685e+09</th>\n",
       "      <td>1297.666667</td>\n",
       "    </tr>\n",
       "    <tr>\n",
       "      <th>1.648944e+09</th>\n",
       "      <td>1306.750000</td>\n",
       "    </tr>\n",
       "    <tr>\n",
       "      <th>1.649722e+09</th>\n",
       "      <td>1321.000000</td>\n",
       "    </tr>\n",
       "    <tr>\n",
       "      <th>1.649808e+09</th>\n",
       "      <td>1329.000000</td>\n",
       "    </tr>\n",
       "    <tr>\n",
       "      <th>1.650240e+09</th>\n",
       "      <td>1340.500000</td>\n",
       "    </tr>\n",
       "    <tr>\n",
       "      <th>1.651018e+09</th>\n",
       "      <td>1344.333333</td>\n",
       "    </tr>\n",
       "    <tr>\n",
       "      <th>1.651709e+09</th>\n",
       "      <td>1357.000000</td>\n",
       "    </tr>\n",
       "    <tr>\n",
       "      <th>1.651795e+09</th>\n",
       "      <td>1349.500000</td>\n",
       "    </tr>\n",
       "    <tr>\n",
       "      <th>1.652573e+09</th>\n",
       "      <td>1324.714286</td>\n",
       "    </tr>\n",
       "    <tr>\n",
       "      <th>1.652746e+09</th>\n",
       "      <td>1321.000000</td>\n",
       "    </tr>\n",
       "    <tr>\n",
       "      <th>1.653523e+09</th>\n",
       "      <td>1321.000000</td>\n",
       "    </tr>\n",
       "    <tr>\n",
       "      <th>1.654301e+09</th>\n",
       "      <td>1307.333333</td>\n",
       "    </tr>\n",
       "    <tr>\n",
       "      <th>1.655942e+09</th>\n",
       "      <td>1311.333333</td>\n",
       "    </tr>\n",
       "    <tr>\n",
       "      <th>1.656461e+09</th>\n",
       "      <td>1322.000000</td>\n",
       "    </tr>\n",
       "    <tr>\n",
       "      <th>1.656547e+09</th>\n",
       "      <td>1294.250000</td>\n",
       "    </tr>\n",
       "  </tbody>\n",
       "</table>\n",
       "</div>"
      ],
      "text/plain": [
       "                  Ratings\n",
       "Date                     \n",
       "1.641341e+09  1046.000000\n",
       "1.642205e+09  1033.500000\n",
       "1.643846e+09  1040.600000\n",
       "1.643933e+09  1040.500000\n",
       "1.644365e+09  1059.333333\n",
       "1.644538e+09  1101.125000\n",
       "1.644970e+09  1143.250000\n",
       "1.645142e+09  1167.500000\n",
       "1.645315e+09  1183.500000\n",
       "1.647130e+09  1192.111111\n",
       "1.647302e+09  1209.750000\n",
       "1.647562e+09  1233.500000\n",
       "1.647734e+09  1236.666667\n",
       "1.647994e+09  1254.000000\n",
       "1.648080e+09  1253.666667\n",
       "1.648253e+09  1276.200000\n",
       "1.648598e+09  1294.333333\n",
       "1.648685e+09  1297.666667\n",
       "1.648944e+09  1306.750000\n",
       "1.649722e+09  1321.000000\n",
       "1.649808e+09  1329.000000\n",
       "1.650240e+09  1340.500000\n",
       "1.651018e+09  1344.333333\n",
       "1.651709e+09  1357.000000\n",
       "1.651795e+09  1349.500000\n",
       "1.652573e+09  1324.714286\n",
       "1.652746e+09  1321.000000\n",
       "1.653523e+09  1321.000000\n",
       "1.654301e+09  1307.333333\n",
       "1.655942e+09  1311.333333\n",
       "1.656461e+09  1322.000000\n",
       "1.656547e+09  1294.250000"
      ]
     },
     "execution_count": 48,
     "metadata": {},
     "output_type": "execute_result"
    }
   ],
   "source": [
    "df.groupby(['Date']).mean()"
   ]
  },
  {
   "cell_type": "code",
   "execution_count": 58,
   "metadata": {},
   "outputs": [
    {
     "data": {
      "image/png": "[encoded data removed]",
      "text/plain": [
       "<Figure size 432x288 with 1 Axes>"
      ]
     },
     "metadata": {
      "needs_background": "light"
     },
     "output_type": "display_data"
    }
   ],
   "source": [
    "fig, ax = plt.subplots()\n",
    "\n",
    "ax.scatter(df[\"Date\"], df[\"Rating\"])\n",
    "plt.title(\"Rating vs. Time (2022)\")\n",
    "plt.show()"
   ]
  },
  {
   "cell_type": "code",
   "execution_count": 74,
   "metadata": {},
   "outputs": [
    {
     "name": "stdout",
     "output_type": "stream",
     "text": [
      "2021 4\n",
      "2021 5\n",
      "2021 6\n",
      "2021 7\n",
      "2021 8\n",
      "2021 9\n",
      "2021 10\n",
      "2021 11\n",
      "2021 12\n",
      "2022 1\n",
      "2022 2\n",
      "2022 3\n",
      "2022 4\n",
      "2022 5\n",
      "2022 6\n",
      "2022 7\n"
     ]
    }
   ],
   "source": [
    "player_joined = requests.get(f\"https://api.chess.com/pub/player/uneatenbean\").json()[\"joined\"]\n",
    "date_joined = datetime.fromtimestamp(player_joined)\n",
    "month = date_joined.month\n",
    "year = date_joined.year\n",
    "\n",
    "now = datetime.now()\n",
    "\n",
    "parsed_games = []\n",
    "while datetime(year, month, 1) - now <= timedelta(0,1,0):\n",
    "    print(year, month)\n",
    "    month += 1\n",
    "    if month > 12:\n",
    "        month -= 12\n",
    "        year += 1"
   ]
  }
 ],
 "metadata": {
  "interpreter": {
   "hash": "aee8b7b246df8f9039afb4144a1f6fd8d2ca17a180786b69acc140d282b71a49"
  },
  "kernelspec": {
   "display_name": "Python 3.10.2 64-bit",
   "language": "python",
   "name": "python3"
  },
  "language_info": {
   "codemirror_mode": {
    "name": "ipython",
    "version": 3
   },
   "file_extension": ".py",
   "mimetype": "text/x-python",
   "name": "python",
   "nbconvert_exporter": "python",
   "pygments_lexer": "ipython3",
   "version": "3.10.2"
  },
  "orig_nbformat": 4
 },
 "nbformat": 4,
 "nbformat_minor": 2
}
